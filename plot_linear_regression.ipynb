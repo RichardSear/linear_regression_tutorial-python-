{
 "cells": [
  {
   "cell_type": "markdown",
   "metadata": {},
   "source": [
    "## Demo for linear regresssion\n",
    "\n",
    "looks at estimating the uncertainties on the best-fit intercept and slope, using 1) jackknife, 2) bootstrap, 3) standard expressions for standard deviations of the probability density function"
   ]
  },
  {
   "cell_type": "code",
   "execution_count": 110,
   "metadata": {
    "collapsed": true
   },
   "outputs": [],
   "source": [
    "%matplotlib inline\n",
    "\n",
    "######## We need to import modules into python\n",
    "# numpy is basic number crunching\n",
    "import numpy as np\n",
    "# need a generator for random integers\n",
    "from random import randint,gauss,seed\n",
    "# matplolib is plotting module\n",
    "import matplotlib.pyplot as plt\n",
    "###################"
   ]
  },
  {
   "cell_type": "markdown",
   "metadata": {},
   "source": [
    "This generates some trial data, with deliberately added noise. This is to help understand the principles of linear regression. In practice, you will typically read your data in from a file.\n",
    "\n",
    "I use 'seed' so data generated is the same each time it runs."
   ]
  },
  {
   "cell_type": "code",
   "execution_count": 111,
   "metadata": {},
   "outputs": [
    {
     "name": "stdout",
     "output_type": "stream",
     "text": [
      "data has  10  points\n"
     ]
    }
   ],
   "source": [
    "# this starts random number generator at same point each time\n",
    "seed(981181)\n",
    "# now generate data that is in fact a straight line plus noise\n",
    "n_pts=10\n",
    "print('data has ',n_pts,' points')\n",
    "x=np.linspace(0.5,25,n_pts)\n",
    "y=np.zeros(n_pts)\n",
    "# actual intercept\n",
    "real_intercept=1.3\n",
    "real_slope=2.2\n",
    "# gauss introduces Gaussian distributed noise of std deviation epsilon_noise\n",
    "epsilon_noise=1.9\n",
    "for i in range(0,n_pts):\n",
    "    y[i]=real_intercept+real_slope*x[i]+gauss(0.0,epsilon_noise)"
   ]
  },
  {
   "cell_type": "markdown",
   "metadata": {},
   "source": [
    "define function to fit straight line y = m*x + c to data - arrays x and y"
   ]
  },
  {
   "cell_type": "code",
   "execution_count": 112,
   "metadata": {
    "collapsed": true
   },
   "outputs": [],
   "source": [
    "def linear_fit_calc(xf,yf):\n",
    "    n_ptsf=len(xf)\n",
    "# mean values\n",
    "    mean_xf=np.sum(xf)/n_ptsf\n",
    "    mean_yf=np.sum(yf)/n_ptsf\n",
    "# first calculate arrays of x minus its mean value\n",
    "    delta_xf=xf-mean_xf\n",
    "    delta_yf=yf-mean_yf\n",
    "# now for best-fit slope m\n",
    "    m=np.sum(delta_xf*delta_yf)/np.sum(delta_xf**2)\n",
    "# and best-fit intercept\n",
    "    c=mean_yf-m*mean_xf\n",
    "    return m,c"
   ]
  },
  {
   "cell_type": "code",
   "execution_count": 113,
   "metadata": {},
   "outputs": [
    {
     "name": "stdout",
     "output_type": "stream",
     "text": [
      "best fit value of intercept   2.558  from least squares fitting\n",
      "best fit value of slope   2.130\n"
     ]
    }
   ],
   "source": [
    "# a straight line of form y = intercept + slope*x is polynomial of order 1\n",
    "# can change 1 to 2 to fit quadratic polynomial\n",
    "#slope, intercept =np.polyfit(x,y,1)\n",
    "slope,intercept=linear_fit_calc(x,y)\n",
    "print('best fit value of intercept ','%6.3f'%(intercept),' from least squares fitting')\n",
    "print('best fit value of slope ','%6.3f'%(slope))"
   ]
  },
  {
   "cell_type": "markdown",
   "metadata": {},
   "source": [
    "Cell below defines functions for jackknife error estimate\n"
   ]
  },
  {
   "cell_type": "code",
   "execution_count": 114,
   "metadata": {},
   "outputs": [],
   "source": [
    "\"\"\"\n",
    "Jackknife error estimates for intercept and slope\n",
    "for linear regression\n",
    "RPS June 2018\n",
    "\"\"\"\n",
    "def jackknife_calc():\n",
    "# there will be n_pts fits to all possible sets of (n_pts-1) data points\n",
    "    slope_jack=np.zeros(n_pts)\n",
    "    intercept_jack=np.zeros(n_pts)\n",
    "    for i in range(0,n_pts):\n",
    "# first select each set of (n_pts-1) taken from our data\n",
    "# which is a set if n_pts, by droping 1 of these points\n",
    "        x_jack=np.zeros(n_pts-1)\n",
    "        y_jack=np.zeros(n_pts-1)\n",
    "        j_jack=0\n",
    "        for j in range(0,n_pts):\n",
    "            if(i !=j):\n",
    "                x_jack[j_jack]=x[j]\n",
    "                y_jack[j_jack]=y[j]\n",
    "                j_jack=j_jack+1\n",
    "# now fit to this set of (n_pts-1) points\n",
    "        slope_jack[i],intercept_jack[i]=linear_fit_calc(x_jack,y_jack)#np.polyfit(x_jack,y_jack,1)\n",
    "# now find smallest and largest values of n_pts fits\n",
    "    min_intercept_jack=np.min(intercept_jack)\n",
    "    max_intercept_jack=np.max(intercept_jack)\n",
    "    min_slope_jack=np.min(slope_jack)\n",
    "    max_slope_jack=np.max(slope_jack)\n",
    "    return min_intercept_jack,max_intercept_jack,min_slope_jack,max_slope_jack"
   ]
  },
  {
   "cell_type": "markdown",
   "metadata": {},
   "source": [
    "having defined jackknife function, now use it to obtain estimate of error"
   ]
  },
  {
   "cell_type": "code",
   "execution_count": 115,
   "metadata": {},
   "outputs": [
    {
     "name": "stdout",
     "output_type": "stream",
     "text": [
      "\n",
      "now calculate Jackknife uncertainties on intercept & slope\n",
      "best fit value of intercept          2.56\n",
      "min & max jacknife intercepts   1.97  to   3.23\n",
      "best fit value of slope          2.13\n",
      "min & max jacknife slopes   2.09  to   2.15\n"
     ]
    }
   ],
   "source": [
    "# jackknife\n",
    "print('')\n",
    "print('now calculate Jackknife uncertainties on intercept & slope')\n",
    "min_intercept_jack,max_intercept_jack,min_slope_jack,max_slope_jack=jackknife_calc()\n",
    "print('best fit value of intercept    ','%9.2f'%(intercept))\n",
    "print('min & max jacknife intercepts ','%5.2f'%(min_intercept_jack),' to ','%5.2f'%(max_intercept_jack))\n",
    "print('best fit value of slope    ','%9.2f'%(slope))\n",
    "print('min & max jacknife slopes ','%5.2f'%(min_slope_jack),' to ','%5.2f'%(max_slope_jack))"
   ]
  },
  {
   "cell_type": "markdown",
   "metadata": {},
   "source": [
    "So, if instead of having n_pts  we had only had 1 less of them, then we'd expect intercepts and slopes in the ranges shown above - these ranges are therefore reasonable estimates of errors"
   ]
  },
  {
   "cell_type": "markdown",
   "metadata": {},
   "source": [
    "Now do boostrap error analysis, first define a function to do this"
   ]
  },
  {
   "cell_type": "code",
   "execution_count": 116,
   "metadata": {},
   "outputs": [],
   "source": [
    "def bootstrap_calc():\n",
    "    n_bootstrap=100\n",
    "    slope_boot=np.zeros(n_bootstrap)\n",
    "    intercept_boot=np.zeros(n_bootstrap)\n",
    "    for i in range(0,n_bootstrap):\n",
    "        x_boot=np.zeros(n_pts)\n",
    "        y_boot=np.zeros(n_pts)\n",
    "        for j in range(0,n_pts):\n",
    "            i_sample=randint(0,n_pts-1)\n",
    "            x_boot[j]=x[i_sample]\n",
    "            y_boot[j]=y[i_sample]\n",
    "        slope_boot[i],intercept_boot[i]=linear_fit_calc(x_boot,y_boot)#np.polyfit(x_boot,y_boot,1)\n",
    "# sort so later we pick out values near bottom and top\n",
    "    intercept_boot=np.sort(intercept_boot)\n",
    "    slope_boot=np.sort(slope_boot)\n",
    "# 95% level confidence - 95% is just a reasonable but basically arbitrary choice\n",
    "    n_boot_lower_conf=int(float(n_bootstrap)*0.05)\n",
    "    n_boot_upper_conf=int(float(n_bootstrap)*0.95)\n",
    "    min_intercept_boot=intercept_boot[n_boot_lower_conf]\n",
    "    max_intercept_boot=intercept_boot[n_boot_upper_conf]\n",
    "    min_slope_boot=slope_boot[n_boot_lower_conf]\n",
    "    max_slope_boot=slope_boot[n_boot_upper_conf]\n",
    "    return min_intercept_boot,max_intercept_boot,min_slope_boot,max_slope_boot\n",
    "#########################"
   ]
  },
  {
   "cell_type": "markdown",
   "metadata": {},
   "source": [
    "Now call this function to get the results"
   ]
  },
  {
   "cell_type": "code",
   "execution_count": 117,
   "metadata": {},
   "outputs": [
    {
     "name": "stdout",
     "output_type": "stream",
     "text": [
      "\n",
      "after boootstrap error analysis the data constrains the fit parameters to ranges:\n",
      "best fit value of intercept   2.56  95% conf. range   1.02  to   3.92\n",
      "best fit value of slope       2.13  95% conf. range   2.04  to   2.23\n"
     ]
    }
   ],
   "source": [
    "\n",
    "# Bootstrap estimates for statistical error bounds\n",
    "min_intercept_boot,max_intercept_boot,min_slope_boot,max_slope_boot=bootstrap_calc()\n",
    "print('')\n",
    "print('after boootstrap error analysis the data constrains the fit parameters to ranges:')\n",
    "print('best fit value of intercept ','%5.2f'%(intercept),\n",
    "      ' 95% conf. range ','%5.2f'%(min_intercept_boot),' to ','%5.2f'%(max_intercept_boot))\n",
    "print('best fit value of slope ','%9.2f'%(slope),\n",
    "      ' 95% conf. range ','%5.2f'%(min_slope_boot),' to ','%5.2f'%(max_slope_boot))"
   ]
  },
  {
   "cell_type": "markdown",
   "metadata": {},
   "source": [
    "Now plot data, best-fit, plus 5% and 95% bootstrap estimates to give rough idea of lowest reasonable line and highest reasonable line"
   ]
  },
  {
   "cell_type": "code",
   "execution_count": 118,
   "metadata": {},
   "outputs": [
    {
     "data": {
      "image/png": "[encoded data removed]",
      "text/plain": [
       "<matplotlib.figure.Figure at 0x11a4da9d390>"
      ]
     },
     "metadata": {},
     "output_type": "display_data"
    }
   ],
   "source": [
    "########### PLOT\n",
    "# first generate points for fitted function\n",
    "n_fitpts=10\n",
    "x_fit=np.linspace(np.min(x),np.max(x),n_fitpts)\n",
    "# this is the best fit\n",
    "y_fit=intercept+slope*x_fit\n",
    "# now for fit 5/100 lowest intercept & slope\n",
    "y_fit_lower_conf=min_intercept_boot+min_slope_boot*x_fit\n",
    "# now for fit 95/100 intercept & slope\n",
    "y_fit_upper_conf=max_intercept_boot+max_slope_boot*x_fit\n",
    "######### Now generate plot\n",
    "plt.figure(figsize = (8,6) )\n",
    "# plot data as scatter plot,\n",
    "plt.scatter(x,y,s=120,c='red',linewidth=0,label='data',zorder=2)\n",
    "# plot fitted function, zorder = 1 < 2 so line underneath points\n",
    "plt.plot(x_fit,y_fit,linewidth=6,c='blue', label='fit',zorder=1)\n",
    "# plot estimates of lower and upper \n",
    "plt.plot(x_fit,y_fit_lower_conf,linewidth=4,c='blue',linestyle=':',zorder=1,label='boot 5%')\n",
    "plt.plot(x_fit,y_fit_upper_conf,linewidth=4,c='blue',linestyle=':',zorder=1,label='boot 95%')\n",
    "plt.xlabel('x',fontsize=24)\n",
    "plt.ylabel('y',fontsize=24)\n",
    "plt.xticks(fontsize=20)\n",
    "plt.yticks(fontsize=20)\n",
    "plt.legend(loc='upper left',fontsize=24)\n",
    "plt.tight_layout()\n",
    "#\tplt.legend(loc='upper right')\n",
    "#\tplt.axhline(color = 'gray', zorder=-1)\n",
    "# save plot to file\n",
    "#plt.savefig('tmp.pdf')\n",
    "# display plot on screen\n",
    "#plt.show()"
   ]
  },
  {
   "cell_type": "code",
   "execution_count": 119,
   "metadata": {},
   "outputs": [
    {
     "data": {
      "image/png": "[encoded data removed]",
      "text/plain": [
       "<matplotlib.figure.Figure at 0x11a4d96f438>"
      ]
     },
     "metadata": {},
     "output_type": "display_data"
    }
   ],
   "source": [
    "## plot errors to look for trend\n",
    "######### Now generate plot\n",
    "plt.figure(figsize = (10,6) )\n",
    "# plot data as scatter plot,\n",
    "plt.title('if the fit function is correct or neat correct should be no trend in residuals',fontsize=20)\n",
    "# these are the error or residuals in y values\n",
    "y_error=intercept+slope*x - y\n",
    "plt.scatter(x,y_error,s=120,c='green',linewidth=0,label='errors',zorder=2)\n",
    "plt.xlabel('x',fontsize=24)\n",
    "plt.ylabel('data y values $-$ best fit y',fontsize=24)\n",
    "plt.xticks(fontsize=20)\n",
    "plt.yticks(fontsize=20)\n",
    "plt.legend(loc='upper left',fontsize=24)\n",
    "plt.tight_layout()\n",
    "plt.show()"
   ]
  },
  {
   "cell_type": "code",
   "execution_count": 120,
   "metadata": {
    "collapsed": true
   },
   "outputs": [],
   "source": [
    "\"\"\"\n",
    "The formulas in std_errors() essentially assume that the best fit\n",
    "slope and intercept have Gaussian probability density\n",
    "distributions, and then the formulas below estimate the standard\n",
    "deviations of these probability density distributions\n",
    "NB For rather technical reasons there are various variants\n",
    "in these formulas with n_pts and (n_pts-2)  - the 2 here\n",
    "is the number of fit parameters (intercept and slope)\n",
    "As these are just ESTIMATES and as n has to be >> 1\n",
    "to get reliable results, in practice the difference between\n",
    "n_pts and (n_pts-2) is not worth worrying\n",
    "RPS June 2018  \n",
    "\"\"\"\n",
    "def std_errors():\n",
    "    y_error=intercept+slope*x - y\n",
    "    std_yerr=np.sqrt(np.sum(y_error**2)/(n_pts-2.0))\n",
    "    mean_x=np.sum(x)/float(n_pts)\n",
    "    std_error_slope=std_yerr/np.sqrt(np.sum((x-mean_x)**2))\n",
    "    std_error_intercept=std_yerr*np.sqrt(np.sum(x**2)/(n_pts*np.sum((x-mean_x)**2)))\n",
    "    return std_yerr,std_error_slope,std_error_intercept\n",
    "############\n",
    "def rsq_calc():\n",
    "    mean_y=np.sum(y)/float(n_pts)\n",
    "    variance_y=np.sum((y-mean_y)**2)/float(n_pts)\n",
    "    y_error=intercept+slope*x - y\n",
    "    mean_sq_yerr=np.sum(y_error**2)/float(n_pts)\n",
    "    r_sq=1.0-mean_sq_yerr/variance_y\n",
    "    return r_sq"
   ]
  },
  {
   "cell_type": "code",
   "execution_count": 121,
   "metadata": {},
   "outputs": [
    {
     "name": "stdout",
     "output_type": "stream",
     "text": [
      "standard (rms) error in y values   1.80\n",
      "std error estimate for slope   0.07\n",
      "std error estimate for intercept   1.09\n",
      "coefficient of determination R^2   0.9908\n"
     ]
    }
   ],
   "source": [
    "std_yerr,std_error_slope,std_error_intercept=std_errors()\n",
    "print('standard (rms) error in y values ','%5.2f'%(std_yerr))\n",
    "print('std error estimate for slope ','%5.2f'%(std_error_slope))\n",
    "print('std error estimate for intercept ','%5.2f'%(std_error_intercept))\n",
    "r_sq=rsq_calc()\n",
    "print('coefficient of determination R^2 ','%7.4f'%(r_sq))"
   ]
  },
  {
   "cell_type": "code",
   "execution_count": null,
   "metadata": {
    "collapsed": true
   },
   "outputs": [],
   "source": []
  }
 ],
 "metadata": {
  "kernelspec": {
   "display_name": "Python 3",
   "language": "python",
   "name": "python3"
  },
  "language_info": {
   "codemirror_mode": {
    "name": "ipython",
    "version": 3
   },
   "file_extension": ".py",
   "mimetype": "text/x-python",
   "name": "python",
   "nbconvert_exporter": "python",
   "pygments_lexer": "ipython3",
   "version": "3.6.4"
  }
 },
 "nbformat": 4,
 "nbformat_minor": 1
}
