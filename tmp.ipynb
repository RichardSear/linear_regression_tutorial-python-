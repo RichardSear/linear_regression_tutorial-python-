{
 "cells": [
  {
   "cell_type": "markdown",
   "metadata": {},
   "source": [
    "## Demo for linear regresssion   - Richard Sear 2018\n",
    "\n",
    "looks at estimating the uncertainties on the best-fit intercept and slope, using 1) jackknife, 2) bootstrap, 3) standard expressions for the uncertainties in the best-fit values.\n",
    "\n",
    "Note that the maths behind estimating errors is pretty specialist and hairy stuff. This Jupyter Python notebook ignores this maths in favour of a being a cookbook with recipes for calculating estimates. Note that error ESTIMATES are just that, estimates, and so not guaranteed to be correct, in particular as the stats literature on these methods notes, all methods of obtaining error estimates make assumptions - if these assumptions are wrong so will be the error estimates. Notably the standard expressions given in stats textbooks (3 here) typically assume that the errors have a Gaussian distribution, which is often close to being true, but is not true in general.\n",
    "\n",
    "The bootstrap method does not make this assumption, is a bit more flexible, and can be more accurate, than the jackknife method, and so is the one I would typically recommend. This [article](https://statistics.stanford.edu/sites/default/files/BIO%2083.pdf), although old, describes the idea of the bootstrap method very well, in a not-maths-heavy way. Note that the boostrap method can be used to give error estimates in anything where you are taking noisy data, and this article discusses the bootstrap method in estimating the error not in a fit but in estimating what they call the correlation coefficient.\n",
    "\n",
    "Note that both the jackkife and bootstrap employ what is called resampling. Simply speaking the point of resampling is as follows. Ideally, we would like a huge number of data points, as then we could estimate the errors very accurately. More typically we only have a very limited number of points. We then use resampling that essentially recycles this small number of data points, by using them to approximately mimic the case where we had many more points."
   ]
  },
  {
   "cell_type": "code",
   "execution_count": 1,
   "metadata": {
    "collapsed": true
   },
   "outputs": [],
   "source": [
    "# this makes the plots appear in this notebook\n",
    "%matplotlib inline\n",
    "\n",
    "######## We need to import modules into Python\n",
    "# numpy is basic number crunching\n",
    "import numpy as np\n",
    "# need a generator for random integers\n",
    "from random import randint,gauss,seed\n",
    "# matplolib is plotting module\n",
    "import matplotlib.pyplot as plt\n",
    "###################"
   ]
  },
  {
   "cell_type": "markdown",
   "metadata": {},
   "source": [
    "This generates some trial data, with deliberately added noise. This is to help understand the principles of linear regression. In practice, you will typically read your data in from a file.\n",
    "\n",
    "I use 'seed' so data generated is the same each time it runs."
   ]
  },
  {
   "cell_type": "code",
   "execution_count": 2,
   "metadata": {},
   "outputs": [
    {
     "name": "stdout",
     "output_type": "stream",
     "text": [
      "data has  10  points\n",
      "true intercept   1.30\n",
      "true slope       2.20\n"
     ]
    }
   ],
   "source": [
    "# this starts random number generator at same point each time\n",
    "seed(981181)\n",
    "# now generate data that is in fact a straight line plus noise\n",
    "n_pts=10\n",
    "print('data has ',n_pts,' points')\n",
    "x=np.linspace(0.5,25,n_pts)\n",
    "y=np.zeros(n_pts)\n",
    "# actual intercept\n",
    "real_intercept=1.3\n",
    "real_slope=2.2\n",
    "print('true intercept ',format(real_intercept,\"5.2f\"))\n",
    "print('true slope     ',format(real_slope,\"5.2f\"))\n",
    "# gauss introduces Gaussian distributed noise of std deviation epsilon_noise\n",
    "epsilon_noise=2.0\n",
    "for i in range(0,n_pts):\n",
    "    y[i]=real_intercept+real_slope*x[i]+gauss(0.0,epsilon_noise)"
   ]
  },
  {
   "cell_type": "markdown",
   "metadata": {},
   "source": [
    "Note that when we are fitting data we never know what the true function - if we did there would be no point in fitting as we already know the answer! But here I want to work with data where I know what the answer is, so I can test the approaches used in this notebook.\n",
    "\n",
    "Now define function to fit straight line $y = m*x + c$ to data - arrays x and y"
   ]
  },
  {
   "cell_type": "code",
   "execution_count": 3,
   "metadata": {
    "collapsed": true
   },
   "outputs": [],
   "source": [
    "def linear_fit_calc(xf,yf):\n",
    "    n_ptsf=len(xf)\n",
    "# mean values\n",
    "    mean_xf=np.average(xf)\n",
    "    mean_yf=np.average(yf)\n",
    "# first calculate arrays of x minus its mean value\n",
    "    delta_xf=xf-mean_xf\n",
    "    delta_yf=yf-mean_yf\n",
    "# now for best-fit slope m\n",
    "    m=np.sum(delta_xf*delta_yf)/np.sum(delta_xf**2)\n",
    "# and best-fit intercept\n",
    "    c=mean_yf-m*mean_xf\n",
    "    return m,c"
   ]
  },
  {
   "cell_type": "code",
   "execution_count": 4,
   "metadata": {},
   "outputs": [
    {
     "name": "stdout",
     "output_type": "stream",
     "text": [
      "best fit value of intercept   2.624  from least squares fitting\n",
      "best fit value of slope   2.126\n",
      "compare to known true intercept   1.30\n",
      "compare to known true slope       2.20\n"
     ]
    }
   ],
   "source": [
    "# a straight line of form y = intercept + slope*x is polynomial of order 1\n",
    "# can change 1 to 2 to fit quadratic polynomial\n",
    "#slope, intercept =np.polyfit(x,y,1)\n",
    "slope,intercept=linear_fit_calc(x,y)\n",
    "print('best fit value of intercept ','%6.3f'%(intercept),' from least squares fitting')\n",
    "print('best fit value of slope ','%6.3f'%(slope))\n",
    "#\n",
    "print('compare to known true intercept ',format(real_intercept,\"5.2f\"))\n",
    "print('compare to known true slope     ',format(real_slope,\"5.2f\"))"
   ]
  },
  {
   "cell_type": "markdown",
   "metadata": {},
   "source": [
    "Cell below defines functions for jackknife error estimate. Jackknife deletes each of the 10 points in turn, and fits to the remaining 9 points to obtain 10 estimates of the intercept and the slope. See https://en.wikipedia.org/wiki/Jackknife_resampling#Estimation for how jackknife estimates are calculated. The \n"
   ]
  },
  {
   "cell_type": "code",
   "execution_count": 5,
   "metadata": {
    "collapsed": true
   },
   "outputs": [],
   "source": [
    "\"\"\"\n",
    "Jackknife error estimates for intercept and slope\n",
    "for linear regression\n",
    "RPS June 2018\n",
    "\"\"\"\n",
    "def jackknife_calc():\n",
    "# there will be n_pts fits to all possible sets of (n_pts-1) data points\n",
    "    slope_jack=np.zeros(n_pts)\n",
    "    intercept_jack=np.zeros(n_pts)\n",
    "    for i in range(0,n_pts):\n",
    "# first select each set of (n_pts-1) taken from our data\n",
    "# which is a set if n_pts, by droping 1 of these points\n",
    "        x_jack=np.zeros(n_pts-1)\n",
    "        y_jack=np.zeros(n_pts-1)\n",
    "        j_jack=0\n",
    "        for j in range(0,n_pts):\n",
    "            if(i !=j):\n",
    "                x_jack[j_jack]=x[j]\n",
    "                y_jack[j_jack]=y[j]\n",
    "                j_jack=j_jack+1\n",
    "# now fit to this set of (n_pts-1) points\n",
    "        slope_jack[i],intercept_jack[i]=linear_fit_calc(x_jack,y_jack)#np.polyfit(x_jack,y_jack,1)\n",
    "# now find smallest and largest values of n_pts fits\n",
    "    ave=np.average(intercept_jack)\n",
    "    ave_sq=np.average(intercept_jack**2)\n",
    "    jack_sigma_intercept=np.sqrt(ave_sq-ave**2)\n",
    "    ave=np.average(slope_jack)\n",
    "    ave_sq=np.average(slope_jack**2)\n",
    "    jack_sigma_slope=np.sqrt(ave_sq-ave**2)\n",
    "    return jack_sigma_intercept,jack_sigma_slope"
   ]
  },
  {
   "cell_type": "markdown",
   "metadata": {},
   "source": [
    "having defined jackknife function, now use it to obtain estimate of error"
   ]
  },
  {
   "cell_type": "code",
   "execution_count": 6,
   "metadata": {},
   "outputs": [
    {
     "name": "stdout",
     "output_type": "stream",
     "text": [
      "\n",
      "now calculate Jackknife uncertainties on intercept & slope\n",
      "uncertainties are 2*standard deviation from jackknife\n",
      "best fit value of intercept      2.62 +/- 0.66\n",
      "best fit value of slope      2.13 +/- 0.04\n",
      "compare to known true intercept   1.30\n",
      "compare to known true slope       2.20\n"
     ]
    }
   ],
   "source": [
    "# jackknife\n",
    "print('')\n",
    "print('now calculate Jackknife uncertainties on intercept & slope')\n",
    "print('uncertainties are 2*standard deviation from jackknife')\n",
    "jack_sigma_intercept,jack_sigma_slope=jackknife_calc()\n",
    "print('best fit value of intercept    ',format(intercept,\"5.2f\"),'+/-',format(2.0*jack_sigma_intercept,\"4.2f\"))\n",
    "print('best fit value of slope    ',format(slope,\"5.2f\"),'+/-',format(2.0*jack_sigma_slope,\"4.2f\"))\n",
    "#\n",
    "print('compare to known true intercept ',format(real_intercept,\"5.2f\"))\n",
    "print('compare to known true slope     ',format(real_slope,\"5.2f\"))"
   ]
  },
  {
   "cell_type": "markdown",
   "metadata": {},
   "source": [
    "So, if instead of having n_pts  we had only had 1 less of them, then we'd expect intercepts and slopes in the ranges shown above - these ranges should therefore be reasonable estimates of errors. But note that for this rather noisy data, the jackknife underestimates the errors. As we generated the data from a known function (just for this example, note that usually we don't know the true values!) we can check the error bars, and here they are a little small."
   ]
  },
  {
   "cell_type": "markdown",
   "metadata": {},
   "source": [
    "Now do boostrap error analysis, first define a function to do this. Wikipedia page for bootstrap is https://en.wikipedia.org/wiki/Bootstrapping_(statistics)."
   ]
  },
  {
   "cell_type": "code",
   "execution_count": 7,
   "metadata": {
    "collapsed": true
   },
   "outputs": [],
   "source": [
    "def bootstrap_calc(prob_conf_interval):\n",
    "# here I have set the number of times the resampled to 1000, this kind of overkill - making it 100 does not change the\n",
    "# error estimates much - but as the program runs so quickly it would not run noticeably faster if n_bootstrap\n",
    "# is reduced so might as well make n_bootstrap large\n",
    "    n_bootstrap=1000\n",
    "    slope_boot=np.zeros(n_bootstrap)\n",
    "    intercept_boot=np.zeros(n_bootstrap)\n",
    "    for i in range(0,n_bootstrap):\n",
    "        x_boot=np.zeros(n_pts)\n",
    "        y_boot=np.zeros(n_pts)\n",
    "        for j in range(0,n_pts):\n",
    "            i_sample=randint(0,n_pts-1)\n",
    "            x_boot[j]=x[i_sample]\n",
    "            y_boot[j]=y[i_sample]\n",
    "        slope_boot[i],intercept_boot[i]=linear_fit_calc(x_boot,y_boot)#np.polyfit(x_boot,y_boot,1)\n",
    "# sort so later we pick out values near bottom and top\n",
    "    intercept_boot=np.sort(intercept_boot)\n",
    "    slope_boot=np.sort(slope_boot)\n",
    "# now n_bootstrap values are sorted from smallest to largest\n",
    "    f_lower=(1.0-prob_conf_interval)/2.0\n",
    "    f_upper=1.0-f_lower\n",
    "    print('lower and upper limits to confidence interval ',format(f_lower,\"4.2f\"),'&',format(f_upper,\"4.2f\"))\n",
    "# 95% level confidence - 95% is just a reasonable but basically arbitrary choice\n",
    "    n_boot_lower_conf=int(float(n_bootstrap)*f_lower)\n",
    "    n_boot_upper_conf=int(float(n_bootstrap)*f_upper)\n",
    "    min_intercept_boot=intercept_boot[n_boot_lower_conf]\n",
    "    max_intercept_boot=intercept_boot[n_boot_upper_conf]\n",
    "    min_slope_boot=slope_boot[n_boot_lower_conf]\n",
    "    max_slope_boot=slope_boot[n_boot_upper_conf]\n",
    "    return min_intercept_boot,max_intercept_boot,min_slope_boot,max_slope_boot\n",
    "#########################"
   ]
  },
  {
   "cell_type": "markdown",
   "metadata": {},
   "source": [
    "Now call this function to get the results"
   ]
  },
  {
   "cell_type": "code",
   "execution_count": 8,
   "metadata": {},
   "outputs": [
    {
     "name": "stdout",
     "output_type": "stream",
     "text": [
      "estimate that 90.0 % of the bootstrap sampled values fall with the confidence interval\n",
      "lower and upper limits to confidence interval  0.05 & 0.95\n",
      "\n",
      "after boootstrap error analysis the data constrains the fit parameters to ranges:\n",
      "best fit value of intercept   2.62  90.0 % conf. interval   1.05  to   4.42\n",
      "best fit value of slope       2.13  90.0 % conf. interval   2.01  to   2.22\n",
      "compare to known true intercept   1.30\n",
      "compare to known true slope       2.20\n"
     ]
    }
   ],
   "source": [
    "# Bootstrap estimates for statistical error bounds\n",
    "# making this closer to 1 makes interval larger - more conservative error estimates\n",
    "prob_conf_interval=0.9\n",
    "print('estimate that',format(prob_conf_interval*100.0,\"4.1f\"),'% of the bootstrap sampled values fall with the confidence interval')\n",
    "min_intercept_boot,max_intercept_boot,min_slope_boot,max_slope_boot=bootstrap_calc(prob_conf_interval)\n",
    "print('')\n",
    "print('after boootstrap error analysis the data constrains the fit parameters to ranges:')\n",
    "print('best fit value of intercept ',format(intercept,\"5.2f\"),format(prob_conf_interval*100.0,\"5.1f\"),\n",
    "      '% conf. interval ',format(min_intercept_boot,\"5.2f\"),' to ',format(max_intercept_boot,\"5.2f\"))\n",
    "print('best fit value of slope     ',format(slope,\"5.2f\"),format(prob_conf_interval*100.0,\"5.1f\"),\n",
    "      '% conf. interval ','%5.2f'%(min_slope_boot),' to ','%5.2f'%(max_slope_boot))\n",
    "#\n",
    "print('compare to known true intercept ',format(real_intercept,\"5.2f\"))\n",
    "print('compare to known true slope     ',format(real_slope,\"5.2f\"))"
   ]
  },
  {
   "cell_type": "markdown",
   "metadata": {},
   "source": [
    "Note that for this confidence interval, the true values do lie within the predicted uncertainties\n",
    "\n",
    "Now plot data, best-fit, plus 5% and 95% bootstrap estimates to give rough idea of lowest reasonable line and highest reasonable line"
   ]
  },
  {
   "cell_type": "code",
   "execution_count": 9,
   "metadata": {},
   "outputs": [
    {
     "data": {
      "image/png": "[encoded data removed]",
      "text/plain": [
       "<matplotlib.figure.Figure at 0x23c362212b0>"
      ]
     },
     "metadata": {},
     "output_type": "display_data"
    }
   ],
   "source": [
    "########### PLOT\n",
    "# first generate points for fitted function\n",
    "n_fitpts=10\n",
    "x_fit=np.linspace(np.min(x),np.max(x),n_fitpts)\n",
    "# this is the best fit\n",
    "y_fit=intercept+slope*x_fit\n",
    "# now for fit 5/100 lowest intercept & slope\n",
    "y_fit_lower_conf=min_intercept_boot+min_slope_boot*x_fit\n",
    "# now for fit 95/100 intercept & slope\n",
    "y_fit_upper_conf=max_intercept_boot+max_slope_boot*x_fit\n",
    "######### Now generate plot\n",
    "plt.figure(figsize = (8,6) )\n",
    "# plot data as scatter plot,\n",
    "plt.scatter(x,y,s=120,c='red',linewidth=0,label='data',zorder=2)\n",
    "# plot fitted function, zorder = 1 < 2 so line underneath points\n",
    "plt.plot(x_fit,y_fit,linewidth=6,c='blue', label='fit',zorder=1)\n",
    "# plot estimates of lower and upper \n",
    "plt.plot(x_fit,y_fit_lower_conf,linewidth=4,c='blue',linestyle=':',zorder=1,label='error est.')\n",
    "plt.plot(x_fit,y_fit_upper_conf,linewidth=4,c='blue',linestyle=':',zorder=1)\n",
    "plt.xlabel('x',fontsize=24)\n",
    "plt.ylabel('y',fontsize=24)\n",
    "plt.xticks(fontsize=20)\n",
    "plt.yticks(fontsize=20)\n",
    "plt.legend(loc='upper left',fontsize=24)\n",
    "plt.tight_layout()\n",
    "#\tplt.legend(loc='upper right')\n",
    "#\tplt.axhline(color = 'gray', zorder=-1)\n",
    "# save plot to file\n",
    "#plt.savefig('tmp.pdf')\n",
    "# display plot on screen\n",
    "#plt.show()"
   ]
  },
  {
   "cell_type": "markdown",
   "metadata": {},
   "source": [
    "The formulas in std_errors() below essentially assume that the best fit slope and intercept have Gaussian probability density\n",
    "distributions, and then the formulas below estimate the standard deviations of these probability density distributions\n",
    "NB For rather technical reasons there are various variants in these formulas with n_pts and (n_pts-2)  - the 2 here\n",
    "is the number of fit parameters (intercept and slope) As these are just ESTIMATES and as n has to be >> 1\n",
    "to get reliable results, in practice the difference between n_pts and (n_pts-2) is not worth worrying about"
   ]
  },
  {
   "cell_type": "code",
   "execution_count": 10,
   "metadata": {
    "collapsed": true
   },
   "outputs": [],
   "source": [
    "# std error formula, as described in most stats textbooks\n",
    "def std_errors():\n",
    "    y_error=intercept+slope*x - y\n",
    "    std_yerr=np.sqrt(np.sum(y_error**2)/(n_pts-2.0))\n",
    "    mean_x=np.sum(x)/float(n_pts)\n",
    "    std_error_slope=std_yerr/np.sqrt(np.sum((x-mean_x)**2))\n",
    "    std_error_intercept=std_yerr*np.sqrt(np.sum(x**2)/(n_pts*np.sum((x-mean_x)**2)))\n",
    "    return std_yerr,std_error_slope,std_error_intercept\n"
   ]
  },
  {
   "cell_type": "code",
   "execution_count": 11,
   "metadata": {},
   "outputs": [
    {
     "name": "stdout",
     "output_type": "stream",
     "text": [
      "standard (rms) error in y values   1.89\n",
      "std error estimate for intercept   1.14\n",
      "std error estimate for slope   0.08\n",
      "best fit value of intercept      2.62 +/- 2.29\n",
      "best fit value of slope      2.13 +/- 0.15\n",
      "compare to known true intercept   1.30\n",
      "compare to known true slope       2.20\n"
     ]
    }
   ],
   "source": [
    "std_yerr,std_error_slope,std_error_intercept=std_errors()\n",
    "print('standard (rms) error in y values ','%5.2f'%(std_yerr))\n",
    "print('std error estimate for intercept ','%5.2f'%(std_error_intercept))\n",
    "print('std error estimate for slope ','%5.2f'%(std_error_slope))\n",
    "print('best fit value of intercept    ',format(intercept,\"5.2f\"),'+/-',format(2.0*std_error_intercept,\"4.2f\"))\n",
    "print('best fit value of slope    ',format(slope,\"5.2f\"),'+/-',format(2.0*std_error_slope,\"4.2f\"))\n",
    "#\n",
    "print('compare to known true intercept ',format(real_intercept,\"5.2f\"))\n",
    "print('compare to known true slope     ',format(real_slope,\"5.2f\"))"
   ]
  },
  {
   "cell_type": "markdown",
   "metadata": {},
   "source": [
    "Note that here the error bars of 2 times the standard errors include the known true values\n",
    "\n",
    "So far we have looked at the problem:if we ASSUME that the data is a straight line plus noise, what are our estimates for the values of the two parameters, intercept and slope, that define a straight line. This error analysis says essentially NOTHING about whether this assumption that the data really is a straight line, is true or false.\n",
    "\n",
    "Perhaps the best simple check on the assumption for the functional form we chose for fitting, here a straight line, is to plot the residuals, ie the y values of the data minus the y values from the fit, as a function of x. IF the data really are a straight line plus noise, these residuals should just be random noise, ie no trend to increase or decreases with x. However, if the straight line is not the correct functional form, they a pattern in the residuals may be apparent.\n"
   ]
  },
  {
   "cell_type": "code",
   "execution_count": 12,
   "metadata": {},
   "outputs": [
    {
     "data": {
      "image/png": "[encoded data removed]",
      "text/plain": [
       "<matplotlib.figure.Figure at 0x23c36686ef0>"
      ]
     },
     "metadata": {},
     "output_type": "display_data"
    }
   ],
   "source": [
    "## plot errors to look for trend\n",
    "######### Now generate plot\n",
    "plt.figure(figsize = (10,6) )\n",
    "# plot data as scatter plot,\n",
    "plt.title('if the fit function is correct or near correct should be no trend in residuals',fontsize=20)\n",
    "# these are the error or residuals in y values\n",
    "y_error=intercept+slope*x - y\n",
    "plt.scatter(x,y_error,s=120,c='green',linewidth=0,label='errors',zorder=2)\n",
    "plt.xlabel('x',fontsize=24)\n",
    "plt.ylabel('data y values $-$ best fit y',fontsize=24)\n",
    "plt.xticks(fontsize=20)\n",
    "plt.yticks(fontsize=20)\n",
    "plt.legend(loc='upper left',fontsize=24)\n",
    "plt.tight_layout()\n",
    "plt.show()"
   ]
  },
  {
   "cell_type": "markdown",
   "metadata": {},
   "source": [
    "Note that these residuals just look like noise, ie no trend - as they should, we know that the data here really is a straight line plus noise."
   ]
  },
  {
   "cell_type": "code",
   "execution_count": null,
   "metadata": {
    "collapsed": true
   },
   "outputs": [],
   "source": []
  }
 ],
 "metadata": {
  "celltoolbar": "Raw Cell Format",
  "kernelspec": {
   "display_name": "Python 3",
   "language": "python",
   "name": "python3"
  },
  "language_info": {
   "codemirror_mode": {
    "name": "ipython",
    "version": 3
   },
   "file_extension": ".py",
   "mimetype": "text/x-python",
   "name": "python",
   "nbconvert_exporter": "python",
   "pygments_lexer": "ipython3",
   "version": "3.6.4"
  }
 },
 "nbformat": 4,
 "nbformat_minor": 1
}
